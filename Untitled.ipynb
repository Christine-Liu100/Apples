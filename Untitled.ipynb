{
 "cells": [
  {
   "cell_type": "code",
   "execution_count": 1,
   "id": "a489ea9f-6981-4182-a962-1ef7bebf2fbe",
   "metadata": {},
   "outputs": [
    {
     "name": "stderr",
     "output_type": "stream",
     "text": [
      "── \u001b[1mAttaching core tidyverse packages\u001b[22m ──────────────────────── tidyverse 2.0.0 ──\n",
      "\u001b[32m✔\u001b[39m \u001b[34mdplyr    \u001b[39m 1.1.3     \u001b[32m✔\u001b[39m \u001b[34mreadr    \u001b[39m 2.1.4\n",
      "\u001b[32m✔\u001b[39m \u001b[34mforcats  \u001b[39m 1.0.0     \u001b[32m✔\u001b[39m \u001b[34mstringr  \u001b[39m 1.5.0\n",
      "\u001b[32m✔\u001b[39m \u001b[34mggplot2  \u001b[39m 3.4.4     \u001b[32m✔\u001b[39m \u001b[34mtibble   \u001b[39m 3.2.1\n",
      "\u001b[32m✔\u001b[39m \u001b[34mlubridate\u001b[39m 1.9.3     \u001b[32m✔\u001b[39m \u001b[34mtidyr    \u001b[39m 1.3.0\n",
      "\u001b[32m✔\u001b[39m \u001b[34mpurrr    \u001b[39m 1.0.2     \n",
      "── \u001b[1mConflicts\u001b[22m ────────────────────────────────────────── tidyverse_conflicts() ──\n",
      "\u001b[31m✖\u001b[39m \u001b[34mdplyr\u001b[39m::\u001b[32mfilter()\u001b[39m masks \u001b[34mstats\u001b[39m::filter()\n",
      "\u001b[31m✖\u001b[39m \u001b[34mdplyr\u001b[39m::\u001b[32mlag()\u001b[39m    masks \u001b[34mstats\u001b[39m::lag()\n",
      "\u001b[36mℹ\u001b[39m Use the conflicted package (\u001b[3m\u001b[34m<http://conflicted.r-lib.org/>\u001b[39m\u001b[23m) to force all conflicts to become errors\n",
      "\u001b[1mRows: \u001b[22m\u001b[34m4001\u001b[39m \u001b[1mColumns: \u001b[22m\u001b[34m9\u001b[39m\n",
      "\u001b[36m──\u001b[39m \u001b[1mColumn specification\u001b[22m \u001b[36m────────────────────────────────────────────────────────\u001b[39m\n",
      "\u001b[1mDelimiter:\u001b[22m \",\"\n",
      "\u001b[31mchr\u001b[39m (2): Acidity, Quality\n",
      "\u001b[32mdbl\u001b[39m (7): A_id, Size, Weight, Sweetness, Crunchiness, Juiciness, Ripeness\n",
      "\n",
      "\u001b[36mℹ\u001b[39m Use `spec()` to retrieve the full column specification for this data.\n",
      "\u001b[36mℹ\u001b[39m Specify the column types or set `show_col_types = FALSE` to quiet this message.\n"
     ]
    },
    {
     "name": "stdout",
     "output_type": "stream",
     "text": [
      "\u001b[90m# A tibble: 4,000 × 9\u001b[39m\n",
      "    A_id    Size Weight Sweetness Crunchiness Juiciness Ripeness Acidity Quality\n",
      "   \u001b[3m\u001b[90m<dbl>\u001b[39m\u001b[23m   \u001b[3m\u001b[90m<dbl>\u001b[39m\u001b[23m  \u001b[3m\u001b[90m<dbl>\u001b[39m\u001b[23m     \u001b[3m\u001b[90m<dbl>\u001b[39m\u001b[23m       \u001b[3m\u001b[90m<dbl>\u001b[39m\u001b[23m     \u001b[3m\u001b[90m<dbl>\u001b[39m\u001b[23m    \u001b[3m\u001b[90m<dbl>\u001b[39m\u001b[23m \u001b[3m\u001b[90m<chr>\u001b[39m\u001b[23m   \u001b[3m\u001b[90m<chr>\u001b[39m\u001b[23m  \n",
      "\u001b[90m 1\u001b[39m     0 -\u001b[31m3\u001b[39m\u001b[31m.\u001b[39m\u001b[31m97\u001b[39m   -\u001b[31m2\u001b[39m\u001b[31m.\u001b[39m\u001b[31m51\u001b[39m      5.35      -\u001b[31m1\u001b[39m\u001b[31m.\u001b[39m\u001b[31m0\u001b[39m\u001b[31m1\u001b[39m       1.84    0.330  -0.491… good   \n",
      "\u001b[90m 2\u001b[39m     1 -\u001b[31m1\u001b[39m\u001b[31m.\u001b[39m\u001b[31m20\u001b[39m   -\u001b[31m2\u001b[39m\u001b[31m.\u001b[39m\u001b[31m84\u001b[39m      3.66       1.59       0.853   0.868  -0.722… good   \n",
      "\u001b[90m 3\u001b[39m     2 -\u001b[31m0\u001b[39m\u001b[31m.\u001b[39m\u001b[31m292\u001b[39m  -\u001b[31m1\u001b[39m\u001b[31m.\u001b[39m\u001b[31m35\u001b[39m     -\u001b[31m1\u001b[39m\u001b[31m.\u001b[39m\u001b[31m74\u001b[39m      -\u001b[31m0\u001b[39m\u001b[31m.\u001b[39m\u001b[31m343\u001b[39m      2.84   -\u001b[31m0\u001b[39m\u001b[31m.\u001b[39m\u001b[31m0\u001b[39m\u001b[31m38\u001b[4m0\u001b[24m\u001b[39m 2.6216… bad    \n",
      "\u001b[90m 4\u001b[39m     3 -\u001b[31m0\u001b[39m\u001b[31m.\u001b[39m\u001b[31m657\u001b[39m  -\u001b[31m2\u001b[39m\u001b[31m.\u001b[39m\u001b[31m27\u001b[39m      1.32      -\u001b[31m0\u001b[39m\u001b[31m.\u001b[39m\u001b[31m0\u001b[39m\u001b[31m97\u001b[4m9\u001b[24m\u001b[39m     3.64   -\u001b[31m3\u001b[39m\u001b[31m.\u001b[39m\u001b[31m41\u001b[39m   0.7907… good   \n",
      "\u001b[90m 5\u001b[39m     4  1.36   -\u001b[31m1\u001b[39m\u001b[31m.\u001b[39m\u001b[31m30\u001b[39m     -\u001b[31m0\u001b[39m\u001b[31m.\u001b[39m\u001b[31m385\u001b[39m     -\u001b[31m0\u001b[39m\u001b[31m.\u001b[39m\u001b[31m553\u001b[39m      3.03   -\u001b[31m1\u001b[39m\u001b[31m.\u001b[39m\u001b[31m30\u001b[39m   0.5019… good   \n",
      "\u001b[90m 6\u001b[39m     5 -\u001b[31m3\u001b[39m\u001b[31m.\u001b[39m\u001b[31m43\u001b[39m   -\u001b[31m1\u001b[39m\u001b[31m.\u001b[39m\u001b[31m41\u001b[39m     -\u001b[31m1\u001b[39m\u001b[31m.\u001b[39m\u001b[31m91\u001b[39m      -\u001b[31m0\u001b[39m\u001b[31m.\u001b[39m\u001b[31m556\u001b[39m     -\u001b[31m3\u001b[39m\u001b[31m.\u001b[39m\u001b[31m85\u001b[39m    1.91   -2.981… bad    \n",
      "\u001b[90m 7\u001b[39m     6  1.33    1.64      0.876     -\u001b[31m1\u001b[39m\u001b[31m.\u001b[39m\u001b[31m68\u001b[39m       3.11   -\u001b[31m1\u001b[39m\u001b[31m.\u001b[39m\u001b[31m85\u001b[39m   2.4141… good   \n",
      "\u001b[90m 8\u001b[39m     7 -\u001b[31m2\u001b[39m\u001b[31m.\u001b[39m\u001b[31m00\u001b[39m   -\u001b[31m0\u001b[39m\u001b[31m.\u001b[39m\u001b[31m429\u001b[39m     1.53      -\u001b[31m0\u001b[39m\u001b[31m.\u001b[39m\u001b[31m743\u001b[39m      0.159   0.974  -1.470… good   \n",
      "\u001b[90m 9\u001b[39m     8 -\u001b[31m3\u001b[39m\u001b[31m.\u001b[39m\u001b[31m87\u001b[39m   -\u001b[31m3\u001b[39m\u001b[31m.\u001b[39m\u001b[31m73\u001b[39m      0.986     -\u001b[31m1\u001b[39m\u001b[31m.\u001b[39m\u001b[31m21\u001b[39m       2.29    4.08   -4.871… bad    \n",
      "\u001b[90m10\u001b[39m     9 -\u001b[31m0\u001b[39m\u001b[31m.\u001b[39m\u001b[31m728\u001b[39m  -\u001b[31m0\u001b[39m\u001b[31m.\u001b[39m\u001b[31m443\u001b[39m    -\u001b[31m4\u001b[39m\u001b[31m.\u001b[39m\u001b[31m0\u001b[39m\u001b[31m9\u001b[39m       0.598      0.394   1.62   2.1856… bad    \n",
      "\u001b[90m11\u001b[39m    10 -\u001b[31m2\u001b[39m\u001b[31m.\u001b[39m\u001b[31m70\u001b[39m   -\u001b[31m1\u001b[39m\u001b[31m.\u001b[39m\u001b[31m33\u001b[39m     -\u001b[31m1\u001b[39m\u001b[31m.\u001b[39m\u001b[31m42\u001b[39m      -\u001b[31m0\u001b[39m\u001b[31m.\u001b[39m\u001b[31m626\u001b[39m      2.37    3.40   -2.810… bad    \n",
      "\u001b[90m12\u001b[39m    11  2.45   -\u001b[31m0\u001b[39m\u001b[31m.\u001b[39m\u001b[31m564\u001b[39m    -\u001b[31m1\u001b[39m\u001b[31m.\u001b[39m\u001b[31m64\u001b[39m       0.942     -\u001b[31m2\u001b[39m\u001b[31m.\u001b[39m\u001b[31m0\u001b[39m\u001b[31m9\u001b[39m    1.21   1.2943… good   \n",
      "\u001b[90m13\u001b[39m    12 -\u001b[31m0\u001b[39m\u001b[31m.\u001b[39m\u001b[31m171\u001b[39m  -\u001b[31m1\u001b[39m\u001b[31m.\u001b[39m\u001b[31m87\u001b[39m     -\u001b[31m1\u001b[39m\u001b[31m.\u001b[39m\u001b[31m77\u001b[39m       2.41      -\u001b[31m3\u001b[39m\u001b[31m.\u001b[39m\u001b[31m0\u001b[39m\u001b[31m9\u001b[39m   -\u001b[31m0\u001b[39m\u001b[31m.\u001b[39m\u001b[31m625\u001b[39m  -2.076… bad    \n",
      "\u001b[90m14\u001b[39m    13 -\u001b[31m1\u001b[39m\u001b[31m.\u001b[39m\u001b[31m35\u001b[39m   -\u001b[31m1\u001b[39m\u001b[31m.\u001b[39m\u001b[31m62\u001b[39m      2.04       1.75       0.998   0.434  1.7240… good   \n",
      "\u001b[90m15\u001b[39m    14  2.84   -\u001b[31m0\u001b[39m\u001b[31m.\u001b[39m\u001b[31m345\u001b[39m    -\u001b[31m1\u001b[39m\u001b[31m.\u001b[39m\u001b[31m0\u001b[39m\u001b[31m2\u001b[39m       0.895     -\u001b[31m1\u001b[39m\u001b[31m.\u001b[39m\u001b[31m30\u001b[39m    0.582  1.7097… good   \n",
      "\u001b[90m16\u001b[39m    15 -\u001b[31m2\u001b[39m\u001b[31m.\u001b[39m\u001b[31m66\u001b[39m   -\u001b[31m2\u001b[39m\u001b[31m.\u001b[39m\u001b[31m80\u001b[39m      4.23       0.698      2.18   -\u001b[31m0\u001b[39m\u001b[31m.\u001b[39m\u001b[31m0\u001b[39m\u001b[31m88\u001b[4m8\u001b[24m\u001b[39m -1.083… good   \n",
      "\u001b[90m17\u001b[39m    16 -\u001b[31m1\u001b[39m\u001b[31m.\u001b[39m\u001b[31m47\u001b[39m   -\u001b[31m1\u001b[39m\u001b[31m.\u001b[39m\u001b[31m95\u001b[39m     -\u001b[31m2\u001b[39m\u001b[31m.\u001b[39m\u001b[31m21\u001b[39m       0.910      2.86    3.97   -0.558… bad    \n",
      "\u001b[90m18\u001b[39m    17 -\u001b[31m0\u001b[39m\u001b[31m.\u001b[39m\u001b[31m0\u001b[39m\u001b[31m74\u001b[4m4\u001b[24m\u001b[39m -\u001b[31m4\u001b[39m\u001b[31m.\u001b[39m\u001b[31m71\u001b[39m      0.250      2.94       1.41   -\u001b[31m2\u001b[39m\u001b[31m.\u001b[39m\u001b[31m64\u001b[39m   1.2509… good   \n",
      "\u001b[90m19\u001b[39m    18 -\u001b[31m0\u001b[39m\u001b[31m.\u001b[39m\u001b[31m302\u001b[39m   1.72     -\u001b[31m2\u001b[39m\u001b[31m.\u001b[39m\u001b[31m44\u001b[39m       3.47       0.450  -\u001b[31m0\u001b[39m\u001b[31m.\u001b[39m\u001b[31m0\u001b[39m\u001b[31m74\u001b[4m4\u001b[24m\u001b[39m 2.4937… bad    \n",
      "\u001b[90m20\u001b[39m    19 -\u001b[31m2\u001b[39m\u001b[31m.\u001b[39m\u001b[31m11\u001b[39m    0.356    -\u001b[31m1\u001b[39m\u001b[31m.\u001b[39m\u001b[31m16\u001b[39m       4.33       1.56   -\u001b[31m4\u001b[39m\u001b[31m.\u001b[39m\u001b[31m63\u001b[39m   -1.376… good   \n",
      "\u001b[90m# ℹ 3,980 more rows\u001b[39m\n"
     ]
    }
   ],
   "source": [
    "library(tidyverse)\n",
    "raw_data<-read_csv(\"data/apple_quality.csv\")\n",
    "clean_data <- na.omit(raw_data)\n",
    "print(clean_data, n=20)"
   ]
  },
  {
   "cell_type": "code",
   "execution_count": 2,
   "id": "005b4abb-ffaf-4f4b-9d35-03d2bc76ef9d",
   "metadata": {},
   "outputs": [
    {
     "name": "stderr",
     "output_type": "stream",
     "text": [
      "Warning message:\n",
      "“\u001b[1m\u001b[22mThere was 1 warning in `mutate()`.\n",
      "\u001b[1m\u001b[22m\u001b[36mℹ\u001b[39m In argument: `Acidity = as.double(Acidity)`.\n",
      "Caused by warning:\n",
      "\u001b[33m!\u001b[39m NAs introduced by coercion”\n"
     ]
    },
    {
     "name": "stdout",
     "output_type": "stream",
     "text": [
      "\u001b[90m# A tibble: 4,001 × 9\u001b[39m\n",
      "    A_id   Size Weight Sweetness Crunchiness Juiciness Ripeness Acidity Quality\n",
      "   \u001b[3m\u001b[90m<dbl>\u001b[39m\u001b[23m  \u001b[3m\u001b[90m<dbl>\u001b[39m\u001b[23m  \u001b[3m\u001b[90m<dbl>\u001b[39m\u001b[23m     \u001b[3m\u001b[90m<dbl>\u001b[39m\u001b[23m       \u001b[3m\u001b[90m<dbl>\u001b[39m\u001b[23m     \u001b[3m\u001b[90m<dbl>\u001b[39m\u001b[23m    \u001b[3m\u001b[90m<dbl>\u001b[39m\u001b[23m   \u001b[3m\u001b[90m<dbl>\u001b[39m\u001b[23m \u001b[3m\u001b[90m<chr>\u001b[39m\u001b[23m  \n",
      "\u001b[90m 1\u001b[39m     0 -\u001b[31m3\u001b[39m\u001b[31m.\u001b[39m\u001b[31m97\u001b[39m  -\u001b[31m2\u001b[39m\u001b[31m.\u001b[39m\u001b[31m51\u001b[39m      5.35      -\u001b[31m1\u001b[39m\u001b[31m.\u001b[39m\u001b[31m0\u001b[39m\u001b[31m1\u001b[39m       1.84    0.330   -\u001b[31m0\u001b[39m\u001b[31m.\u001b[39m\u001b[31m492\u001b[39m good   \n",
      "\u001b[90m 2\u001b[39m     1 -\u001b[31m1\u001b[39m\u001b[31m.\u001b[39m\u001b[31m20\u001b[39m  -\u001b[31m2\u001b[39m\u001b[31m.\u001b[39m\u001b[31m84\u001b[39m      3.66       1.59       0.853   0.868   -\u001b[31m0\u001b[39m\u001b[31m.\u001b[39m\u001b[31m723\u001b[39m good   \n",
      "\u001b[90m 3\u001b[39m     2 -\u001b[31m0\u001b[39m\u001b[31m.\u001b[39m\u001b[31m292\u001b[39m -\u001b[31m1\u001b[39m\u001b[31m.\u001b[39m\u001b[31m35\u001b[39m     -\u001b[31m1\u001b[39m\u001b[31m.\u001b[39m\u001b[31m74\u001b[39m      -\u001b[31m0\u001b[39m\u001b[31m.\u001b[39m\u001b[31m343\u001b[39m      2.84   -\u001b[31m0\u001b[39m\u001b[31m.\u001b[39m\u001b[31m0\u001b[39m\u001b[31m38\u001b[4m0\u001b[24m\u001b[39m   2.62  bad    \n",
      "\u001b[90m 4\u001b[39m     3 -\u001b[31m0\u001b[39m\u001b[31m.\u001b[39m\u001b[31m657\u001b[39m -\u001b[31m2\u001b[39m\u001b[31m.\u001b[39m\u001b[31m27\u001b[39m      1.32      -\u001b[31m0\u001b[39m\u001b[31m.\u001b[39m\u001b[31m0\u001b[39m\u001b[31m97\u001b[4m9\u001b[24m\u001b[39m     3.64   -\u001b[31m3\u001b[39m\u001b[31m.\u001b[39m\u001b[31m41\u001b[39m     0.791 good   \n",
      "\u001b[90m 5\u001b[39m     4  1.36  -\u001b[31m1\u001b[39m\u001b[31m.\u001b[39m\u001b[31m30\u001b[39m     -\u001b[31m0\u001b[39m\u001b[31m.\u001b[39m\u001b[31m385\u001b[39m     -\u001b[31m0\u001b[39m\u001b[31m.\u001b[39m\u001b[31m553\u001b[39m      3.03   -\u001b[31m1\u001b[39m\u001b[31m.\u001b[39m\u001b[31m30\u001b[39m     0.502 good   \n",
      "\u001b[90m 6\u001b[39m     5 -\u001b[31m3\u001b[39m\u001b[31m.\u001b[39m\u001b[31m43\u001b[39m  -\u001b[31m1\u001b[39m\u001b[31m.\u001b[39m\u001b[31m41\u001b[39m     -\u001b[31m1\u001b[39m\u001b[31m.\u001b[39m\u001b[31m91\u001b[39m      -\u001b[31m0\u001b[39m\u001b[31m.\u001b[39m\u001b[31m556\u001b[39m     -\u001b[31m3\u001b[39m\u001b[31m.\u001b[39m\u001b[31m85\u001b[39m    1.91    -\u001b[31m2\u001b[39m\u001b[31m.\u001b[39m\u001b[31m98\u001b[39m  bad    \n",
      "\u001b[90m 7\u001b[39m     6  1.33   1.64      0.876     -\u001b[31m1\u001b[39m\u001b[31m.\u001b[39m\u001b[31m68\u001b[39m       3.11   -\u001b[31m1\u001b[39m\u001b[31m.\u001b[39m\u001b[31m85\u001b[39m     2.41  good   \n",
      "\u001b[90m 8\u001b[39m     7 -\u001b[31m2\u001b[39m\u001b[31m.\u001b[39m\u001b[31m00\u001b[39m  -\u001b[31m0\u001b[39m\u001b[31m.\u001b[39m\u001b[31m429\u001b[39m     1.53      -\u001b[31m0\u001b[39m\u001b[31m.\u001b[39m\u001b[31m743\u001b[39m      0.159   0.974   -\u001b[31m1\u001b[39m\u001b[31m.\u001b[39m\u001b[31m47\u001b[39m  good   \n",
      "\u001b[90m 9\u001b[39m     8 -\u001b[31m3\u001b[39m\u001b[31m.\u001b[39m\u001b[31m87\u001b[39m  -\u001b[31m3\u001b[39m\u001b[31m.\u001b[39m\u001b[31m73\u001b[39m      0.986     -\u001b[31m1\u001b[39m\u001b[31m.\u001b[39m\u001b[31m21\u001b[39m       2.29    4.08    -\u001b[31m4\u001b[39m\u001b[31m.\u001b[39m\u001b[31m87\u001b[39m  bad    \n",
      "\u001b[90m10\u001b[39m     9 -\u001b[31m0\u001b[39m\u001b[31m.\u001b[39m\u001b[31m728\u001b[39m -\u001b[31m0\u001b[39m\u001b[31m.\u001b[39m\u001b[31m443\u001b[39m    -\u001b[31m4\u001b[39m\u001b[31m.\u001b[39m\u001b[31m0\u001b[39m\u001b[31m9\u001b[39m       0.598      0.394   1.62     2.19  bad    \n",
      "\u001b[90m# ℹ 3,991 more rows\u001b[39m\n"
     ]
    }
   ],
   "source": [
    "mutated_data<-raw_data|>\n",
    "mutate(Acidity=as.double(Acidity))\n",
    "print(mutated_data, n=10)"
   ]
  },
  {
   "cell_type": "code",
   "execution_count": 3,
   "id": "5c5d8374-ee59-46b3-802a-965f379ec387",
   "metadata": {},
   "outputs": [
    {
     "name": "stderr",
     "output_type": "stream",
     "text": [
      "── \u001b[1mAttaching packages\u001b[22m ────────────────────────────────────── tidymodels 1.1.1 ──\n",
      "\n",
      "\u001b[32m✔\u001b[39m \u001b[34mbroom       \u001b[39m 1.0.5     \u001b[32m✔\u001b[39m \u001b[34mrsample     \u001b[39m 1.2.0\n",
      "\u001b[32m✔\u001b[39m \u001b[34mdials       \u001b[39m 1.2.0     \u001b[32m✔\u001b[39m \u001b[34mtune        \u001b[39m 1.1.2\n",
      "\u001b[32m✔\u001b[39m \u001b[34minfer       \u001b[39m 1.0.5     \u001b[32m✔\u001b[39m \u001b[34mworkflows   \u001b[39m 1.1.3\n",
      "\u001b[32m✔\u001b[39m \u001b[34mmodeldata   \u001b[39m 1.2.0     \u001b[32m✔\u001b[39m \u001b[34mworkflowsets\u001b[39m 1.0.1\n",
      "\u001b[32m✔\u001b[39m \u001b[34mparsnip     \u001b[39m 1.1.1     \u001b[32m✔\u001b[39m \u001b[34myardstick   \u001b[39m 1.2.0\n",
      "\u001b[32m✔\u001b[39m \u001b[34mrecipes     \u001b[39m 1.0.8     \n",
      "\n",
      "── \u001b[1mConflicts\u001b[22m ───────────────────────────────────────── tidymodels_conflicts() ──\n",
      "\u001b[31m✖\u001b[39m \u001b[34mscales\u001b[39m::\u001b[32mdiscard()\u001b[39m masks \u001b[34mpurrr\u001b[39m::discard()\n",
      "\u001b[31m✖\u001b[39m \u001b[34mdplyr\u001b[39m::\u001b[32mfilter()\u001b[39m   masks \u001b[34mstats\u001b[39m::filter()\n",
      "\u001b[31m✖\u001b[39m \u001b[34mrecipes\u001b[39m::\u001b[32mfixed()\u001b[39m  masks \u001b[34mstringr\u001b[39m::fixed()\n",
      "\u001b[31m✖\u001b[39m \u001b[34mdplyr\u001b[39m::\u001b[32mlag()\u001b[39m      masks \u001b[34mstats\u001b[39m::lag()\n",
      "\u001b[31m✖\u001b[39m \u001b[34myardstick\u001b[39m::\u001b[32mspec()\u001b[39m masks \u001b[34mreadr\u001b[39m::spec()\n",
      "\u001b[31m✖\u001b[39m \u001b[34mrecipes\u001b[39m::\u001b[32mstep()\u001b[39m   masks \u001b[34mstats\u001b[39m::step()\n",
      "\u001b[34m•\u001b[39m Dig deeper into tidy modeling with R at \u001b[32mhttps://www.tmwr.org\u001b[39m\n",
      "\n"
     ]
    },
    {
     "name": "stdout",
     "output_type": "stream",
     "text": [
      "Rows: 3,200\n",
      "Columns: 9\n",
      "$ A_id        \u001b[3m\u001b[90m<dbl>\u001b[39m\u001b[23m 2, 5, 9, 16, 20, 22, 24, 28, 29, 30, 33, 42, 43, 47, 48, 4…\n",
      "$ Size        \u001b[3m\u001b[90m<dbl>\u001b[39m\u001b[23m -0.29202386, -3.42539975, -0.72798271, -1.46895155, -2.334…\n",
      "$ Weight      \u001b[3m\u001b[90m<dbl>\u001b[39m\u001b[23m -1.3512820, -1.4090822, -0.4428204, -1.9503596, -2.9437089…\n",
      "$ Sweetness   \u001b[3m\u001b[90m<dbl>\u001b[39m\u001b[23m -1.7384292, -1.9135112, -4.0922228, -2.2143729, -3.4526277…\n",
      "$ Crunchiness \u001b[3m\u001b[90m<dbl>\u001b[39m\u001b[23m -0.34261593, -0.55577486, 0.59751292, 0.90975851, 0.762391…\n",
      "$ Juiciness   \u001b[3m\u001b[90m<dbl>\u001b[39m\u001b[23m 2.83863551, -3.85307147, 0.39371426, 2.86444885, 4.0764623…\n",
      "$ Ripeness    \u001b[3m\u001b[90m<dbl>\u001b[39m\u001b[23m -0.03803333, 1.91461592, 1.62085677, 3.96595566, 6.3464453…\n",
      "$ Acidity     \u001b[3m\u001b[90m<dbl>\u001b[39m\u001b[23m 2.6216365, -2.9815232, 2.1856077, -0.5582087, 0.7267757, 3…\n",
      "$ Quality     \u001b[3m\u001b[90m<chr>\u001b[39m\u001b[23m \"bad\", \"bad\", \"bad\", \"bad\", \"bad\", \"bad\", \"bad\", \"bad\", \"b…\n"
     ]
    }
   ],
   "source": [
    "library(tidymodels)\n",
    "\n",
    "data_split <- initial_split(mutated_data, prop = 0.8, strata = Quality)\n",
    "data_train <- training(data_split)\n",
    "data_test <- testing(data_split)\n",
    "\n",
    "glimpse(data_train)"
   ]
  },
  {
   "cell_type": "code",
   "execution_count": 4,
   "id": "8d5f0f5c-b8da-4c13-8cdc-665a7a135954",
   "metadata": {},
   "outputs": [
    {
     "data": {
      "text/html": [
       "<table class=\"dataframe\">\n",
       "<caption>A tibble: 3 × 3</caption>\n",
       "<thead>\n",
       "\t<tr><th scope=col>Quality</th><th scope=col>n</th><th scope=col>percent</th></tr>\n",
       "\t<tr><th scope=col>&lt;chr&gt;</th><th scope=col>&lt;int&gt;</th><th scope=col>&lt;dbl&gt;</th></tr>\n",
       "</thead>\n",
       "<tbody>\n",
       "\t<tr><td>bad </td><td>1596</td><td>49.87500</td></tr>\n",
       "\t<tr><td>good</td><td>1603</td><td>50.09375</td></tr>\n",
       "\t<tr><td>NA  </td><td>   1</td><td> 0.03125</td></tr>\n",
       "</tbody>\n",
       "</table>\n"
      ],
      "text/latex": [
       "A tibble: 3 × 3\n",
       "\\begin{tabular}{lll}\n",
       " Quality & n & percent\\\\\n",
       " <chr> & <int> & <dbl>\\\\\n",
       "\\hline\n",
       "\t bad  & 1596 & 49.87500\\\\\n",
       "\t good & 1603 & 50.09375\\\\\n",
       "\t NA   &    1 &  0.03125\\\\\n",
       "\\end{tabular}\n"
      ],
      "text/markdown": [
       "\n",
       "A tibble: 3 × 3\n",
       "\n",
       "| Quality &lt;chr&gt; | n &lt;int&gt; | percent &lt;dbl&gt; |\n",
       "|---|---|---|\n",
       "| bad  | 1596 | 49.87500 |\n",
       "| good | 1603 | 50.09375 |\n",
       "| NA   |    1 |  0.03125 |\n",
       "\n"
      ],
      "text/plain": [
       "  Quality n    percent \n",
       "1 bad     1596 49.87500\n",
       "2 good    1603 50.09375\n",
       "3 NA         1  0.03125"
      ]
     },
     "metadata": {},
     "output_type": "display_data"
    }
   ],
   "source": [
    "data_proportions <- data_train |>\n",
    "                      group_by(Quality) |>\n",
    "                      summarize(n = n()) |>\n",
    "                      mutate(percent = 100*n/nrow(data_train))\n",
    "\n",
    "data_proportions"
   ]
  },
  {
   "cell_type": "code",
   "execution_count": 34,
   "id": "d66eb0f1-f4d4-40ff-938b-6fa2e7229cfb",
   "metadata": {},
   "outputs": [
    {
     "data": {
      "text/html": [
       "<table class=\"dataframe\">\n",
       "<caption>A tibble: 1 × 2</caption>\n",
       "<thead>\n",
       "\t<tr><th scope=col>mean_crunchiness</th><th scope=col>mean_sweetness</th></tr>\n",
       "\t<tr><th scope=col>&lt;dbl&gt;</th><th scope=col>&lt;dbl&gt;</th></tr>\n",
       "</thead>\n",
       "<tbody>\n",
       "\t<tr><td>0.9883175</td><td>-0.4671307</td></tr>\n",
       "</tbody>\n",
       "</table>\n"
      ],
      "text/latex": [
       "A tibble: 1 × 2\n",
       "\\begin{tabular}{ll}\n",
       " mean\\_crunchiness & mean\\_sweetness\\\\\n",
       " <dbl> & <dbl>\\\\\n",
       "\\hline\n",
       "\t 0.9883175 & -0.4671307\\\\\n",
       "\\end{tabular}\n"
      ],
      "text/markdown": [
       "\n",
       "A tibble: 1 × 2\n",
       "\n",
       "| mean_crunchiness &lt;dbl&gt; | mean_sweetness &lt;dbl&gt; |\n",
       "|---|---|\n",
       "| 0.9883175 | -0.4671307 |\n",
       "\n"
      ],
      "text/plain": [
       "  mean_crunchiness mean_sweetness\n",
       "1 0.9883175        -0.4671307    "
      ]
     },
     "metadata": {},
     "output_type": "display_data"
    }
   ],
   "source": [
    "summarized_data <- data_train |>\n",
    "    summarize(mean_crunchiness = mean(Crunchiness, na.rm = TRUE),\n",
    "              mean_sweetness = mean(Sweetness, na.rm = TRUE))\n",
    "summarized_data\n"
   ]
  },
  {
   "cell_type": "code",
   "execution_count": null,
   "id": "a7dade3e-00cd-4664-a3bf-a059b9f227bc",
   "metadata": {},
   "outputs": [],
   "source": []
  },
  {
   "cell_type": "code",
   "execution_count": null,
   "id": "cb5cf4bb-cfae-4a46-8bed-554fc7484ac4",
   "metadata": {},
   "outputs": [],
   "source": []
  }
 ],
 "metadata": {
  "kernelspec": {
   "display_name": "R",
   "language": "R",
   "name": "ir"
  },
  "language_info": {
   "codemirror_mode": "r",
   "file_extension": ".r",
   "mimetype": "text/x-r-source",
   "name": "R",
   "pygments_lexer": "r",
   "version": "4.3.1"
  }
 },
 "nbformat": 4,
 "nbformat_minor": 5
}
